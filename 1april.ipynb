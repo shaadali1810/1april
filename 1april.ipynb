{
 "cells": [
  {
   "cell_type": "code",
   "execution_count": 2,
   "id": "ea5f0d65-5308-44da-bc1b-d1bfb8d7b31b",
   "metadata": {},
   "outputs": [
    {
     "data": {
      "text/plain": [
       "'Logistic Regression is used to predict the categorical dependent variable using a given set of independent variables.Logistic regression is used for solving Classification problems.In logistic Regression, we predict the values of categorical variables.'"
      ]
     },
     "execution_count": 2,
     "metadata": {},
     "output_type": "execute_result"
    }
   ],
   "source": [
    "#1\n",
    "'''Linear regression is used to predict the continuous dependent variable using a given set of independent variables.Linear Regression is used for solving Regression problem.In Linear regression, we predict the value of continuous variable'''\n",
    "'''Logistic Regression is used to predict the categorical dependent variable using a given set of independent variables.Logistic regression is used for solving Classification problems.In logistic Regression, we predict the values of categorical variables.'''"
   ]
  },
  {
   "cell_type": "code",
   "execution_count": 3,
   "id": "65742954-e62e-4a7a-a8a9-e565b880cfa1",
   "metadata": {},
   "outputs": [],
   "source": [
    "#2 The logistic regression cost function is also known as the cross-entropy loss function or the log loss function. It is a convex function, which means that it has a single global minimum. This makes it easier to optimize using gradient descent."
   ]
  },
  {
   "cell_type": "code",
   "execution_count": 4,
   "id": "c050a411-c755-46be-aa2e-799e3aa0bd5c",
   "metadata": {},
   "outputs": [],
   "source": [
    "#3Regularization helps you avoid overfitting by adding a penalty term to the cost function of your model, which measures how well your model fits the data. The penalty term reduces the complexity of your model by shrinking or eliminating some of the coefficients of your input variables."
   ]
  },
  {
   "cell_type": "code",
   "execution_count": 5,
   "id": "c1d67c4b-cee0-47cf-bad2-20855c9df3db",
   "metadata": {},
   "outputs": [],
   "source": [
    "#4 An ROC curve (receiver operating characteristic curve) is a graph showing the performance of a classification model at all classification thresholds. This curve plots two parameters: True Positive Rate. False Positive Rate."
   ]
  },
  {
   "cell_type": "code",
   "execution_count": 6,
   "id": "47967197-82c3-444d-8676-6121a1aac47c",
   "metadata": {},
   "outputs": [],
   "source": [
    "#5There are several types of statistical tests that can be used for filter feature selection, including chi-square, ANOVA, and mutual information. These tests measure the degree of association between the features and the target variable, and can help identify the most relevant features for the model."
   ]
  },
  {
   "cell_type": "code",
   "execution_count": 7,
   "id": "a2d4edcd-a5e3-4322-bfba-eca596fb1cdc",
   "metadata": {},
   "outputs": [
    {
     "data": {
      "text/plain": [
       "'We explored 5 different methods for dealing with imbalanced datasets:\\nChange the performance metric.\\nChange the algorithm.\\nOversample minority class.\\nUndersample majority class.\\nGenerate synthetic samples'"
      ]
     },
     "execution_count": 7,
     "metadata": {},
     "output_type": "execute_result"
    }
   ],
   "source": [
    "#6 \n",
    "'''We explored 5 different methods for dealing with imbalanced datasets:\n",
    "Change the performance metric.\n",
    "Change the algorithm.\n",
    "Oversample minority class.\n",
    "Undersample majority class.\n",
    "Generate synthetic samples'''"
   ]
  },
  {
   "cell_type": "code",
   "execution_count": null,
   "id": "1c06dc47-273d-4e7e-aa7b-f880e64bbc0e",
   "metadata": {},
   "outputs": [],
   "source": [
    "#7 "
   ]
  }
 ],
 "metadata": {
  "kernelspec": {
   "display_name": "Python 3 (ipykernel)",
   "language": "python",
   "name": "python3"
  },
  "language_info": {
   "codemirror_mode": {
    "name": "ipython",
    "version": 3
   },
   "file_extension": ".py",
   "mimetype": "text/x-python",
   "name": "python",
   "nbconvert_exporter": "python",
   "pygments_lexer": "ipython3",
   "version": "3.10.8"
  }
 },
 "nbformat": 4,
 "nbformat_minor": 5
}
